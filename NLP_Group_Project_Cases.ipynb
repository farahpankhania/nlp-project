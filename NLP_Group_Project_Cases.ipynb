{
  "cells": [
    {
      "cell_type": "markdown",
      "source": [
        "#NLP GROUP 1 PROJECT\n",
        "Farah Pankhania, Anushka Rohra, Angel Urbano, Weifei Wang, Geetanjali Sachdev"
      ],
      "metadata": {
        "id": "LkV5vhjYgiT0"
      }
    },
    {
      "cell_type": "code",
      "source": [
        "from google.colab import drive\n",
        "drive.mount('/content/drive')"
      ],
      "metadata": {
        "colab": {
          "base_uri": "https://localhost:8080/"
        },
        "id": "ldMX3ka3PO4E",
        "outputId": "d15d3fa2-87dd-410f-8615-21eeb8dc114f"
      },
      "execution_count": null,
      "outputs": [
        {
          "output_type": "stream",
          "name": "stdout",
          "text": [
            "Mounted at /content/drive\n"
          ]
        }
      ]
    },
    {
      "cell_type": "code",
      "source": [
        "BASE_DIR = '/content/drive/MyDrive/NLP/Group_Project'\n",
        "os.chdir(BASE_DIR)"
      ],
      "metadata": {
        "id": "MbCvv9QOPPeT"
      },
      "execution_count": null,
      "outputs": []
    },
    {
      "cell_type": "markdown",
      "source": [
        "# **CASE I – Business Intelligence in Social Customer Service**"
      ],
      "metadata": {
        "id": "lkQGNMS9OOLC"
      }
    },
    {
      "cell_type": "code",
      "source": [
        "# suppress warnings\n",
        "import warnings;\n",
        "warnings.filterwarnings('ignore');\n",
        "\n",
        "# common imports\n",
        "import pandas as pd\n",
        "import numpy as np\n",
        "import math\n",
        "import re\n",
        "import glob\n",
        "import os\n",
        "import sys\n",
        "import json\n",
        "import random\n",
        "import pprint as pp\n",
        "import textwrap\n",
        "import sqlite3\n",
        "import logging\n",
        "\n",
        "import spacy\n",
        "import nltk\n",
        "\n",
        "from tqdm.auto import tqdm\n",
        "# register `pandas.progress_apply` and `pandas.Series.map_apply` with `tqdm`\n",
        "tqdm.pandas()\n",
        "\n",
        "# pandas display options\n",
        "# https://pandas.pydata.org/pandas-docs/stable/user_guide/options.html#available-options\n",
        "pd.options.display.max_columns = 30 # default 20\n",
        "pd.options.display.max_rows = 60 # default 60\n",
        "pd.options.display.float_format = '{:.2f}'.format\n",
        "# pd.options.display.precision = 2\n",
        "pd.options.display.max_colwidth = 200 # default 50; -1 = all\n",
        "# otherwise text between $ signs will be interpreted as formula and printed in italic\n",
        "pd.set_option('display.html.use_mathjax', False)\n",
        "\n",
        "# np.set_printoptions(edgeitems=3) # default 3\n",
        "\n",
        "import matplotlib\n",
        "from matplotlib import pyplot as plt\n",
        "\n",
        "plot_params = {'figure.figsize': (8, 4), \n",
        "               'axes.labelsize': 'large',\n",
        "               'axes.titlesize': 'large',\n",
        "               'xtick.labelsize': 'large',\n",
        "               'ytick.labelsize':'large',\n",
        "               'figure.dpi': 100}\n",
        "# adjust matplotlib defaults\n",
        "matplotlib.rcParams.update(plot_params)\n",
        "\n",
        "import seaborn as sns\n",
        "sns.set_style(\"darkgrid\")"
      ],
      "metadata": {
        "id": "DVTKXUYJPPa7"
      },
      "execution_count": null,
      "outputs": []
    },
    {
      "cell_type": "code",
      "source": [
        "Airline_Tweets = './airline.csv'\n",
        "df = pd.read_csv(Airline_Tweets)\n",
        "df.head(10)"
      ],
      "metadata": {
        "colab": {
          "base_uri": "https://localhost:8080/",
          "height": 476
        },
        "id": "ZJIJg7XMOabZ",
        "outputId": "e887d948-4fdc-4aba-b38a-aa15d55bc82b"
      },
      "execution_count": null,
      "outputs": [
        {
          "output_type": "execute_result",
          "data": {
            "text/plain": [
              "  weekday month  date  year  \\\n",
              "0     Thu   Oct     1  2015   \n",
              "1     Thu   Oct     1  2015   \n",
              "2     Thu   Oct     1  2015   \n",
              "3     Thu   Oct     1  2015   \n",
              "4     Thu   Oct     1  2015   \n",
              "5     Thu   Oct     1  2015   \n",
              "6     Thu   Oct     1  2015   \n",
              "7     Thu   Oct     1  2015   \n",
              "8     Thu   Oct     1  2015   \n",
              "9     Thu   Oct     1  2015   \n",
              "\n",
              "                                                                                                                                             text  \n",
              "0                         @mjdout I know that can be frustrating..we hope to have you parked and deplaned shortly. Thanks for your patience.  *AA  \n",
              "1                                  @rmarkerm Terribly sorry for the inconvenience. If we can be of assistance at this time, pls let us know.  *AA  \n",
              "2                                                                  @checho85  I can check, pls follow and DM your confirmation # for review.  *AA  \n",
              "3                                                                               @nealaa ...Alerts, pls check here: http://t.co/0jlcZnT95Q *JH 3/3  \n",
              "4       @nealaa ...advisory has only been issued for the Bahamas, but that could change.  To check for updates on Weather advisories &amp;... 2/3  \n",
              "5  @nealaa Hi. Our meteorologist team is aware of Hurricane Joaquin &amp; monitors weather conditions at all times. At this time a weather... 1/3  \n",
              "6                                                                     @BigGucciQueen  This is your direct dial number + 43 (0)1 360 277 3461. *DD  \n",
              "7                                                                                                    @marxypoo ...for any inconvenience.  *JH 3/3  \n",
              "8    @marxypoo ...the system &amp; when you are ready to board the aircraft the correct seat assignment will be given to you. My apologies... 2/3  \n",
              "9   @marxypoo Hi Marx. This is a known issue &amp; our IT team members are working on a fix. Be assured, once you make the change it is in... 1/3  "
            ],
            "text/html": [
              "\n",
              "  <div id=\"df-22b2dfa9-66a5-419e-b455-496776170bbb\">\n",
              "    <div class=\"colab-df-container\">\n",
              "      <div>\n",
              "<style scoped>\n",
              "    .dataframe tbody tr th:only-of-type {\n",
              "        vertical-align: middle;\n",
              "    }\n",
              "\n",
              "    .dataframe tbody tr th {\n",
              "        vertical-align: top;\n",
              "    }\n",
              "\n",
              "    .dataframe thead th {\n",
              "        text-align: right;\n",
              "    }\n",
              "</style>\n",
              "<table border=\"1\" class=\"dataframe tex2jax_ignore\">\n",
              "  <thead>\n",
              "    <tr style=\"text-align: right;\">\n",
              "      <th></th>\n",
              "      <th>weekday</th>\n",
              "      <th>month</th>\n",
              "      <th>date</th>\n",
              "      <th>year</th>\n",
              "      <th>text</th>\n",
              "    </tr>\n",
              "  </thead>\n",
              "  <tbody>\n",
              "    <tr>\n",
              "      <th>0</th>\n",
              "      <td>Thu</td>\n",
              "      <td>Oct</td>\n",
              "      <td>1</td>\n",
              "      <td>2015</td>\n",
              "      <td>@mjdout I know that can be frustrating..we hope to have you parked and deplaned shortly. Thanks for your patience.  *AA</td>\n",
              "    </tr>\n",
              "    <tr>\n",
              "      <th>1</th>\n",
              "      <td>Thu</td>\n",
              "      <td>Oct</td>\n",
              "      <td>1</td>\n",
              "      <td>2015</td>\n",
              "      <td>@rmarkerm Terribly sorry for the inconvenience. If we can be of assistance at this time, pls let us know.  *AA</td>\n",
              "    </tr>\n",
              "    <tr>\n",
              "      <th>2</th>\n",
              "      <td>Thu</td>\n",
              "      <td>Oct</td>\n",
              "      <td>1</td>\n",
              "      <td>2015</td>\n",
              "      <td>@checho85  I can check, pls follow and DM your confirmation # for review.  *AA</td>\n",
              "    </tr>\n",
              "    <tr>\n",
              "      <th>3</th>\n",
              "      <td>Thu</td>\n",
              "      <td>Oct</td>\n",
              "      <td>1</td>\n",
              "      <td>2015</td>\n",
              "      <td>@nealaa ...Alerts, pls check here: http://t.co/0jlcZnT95Q *JH 3/3</td>\n",
              "    </tr>\n",
              "    <tr>\n",
              "      <th>4</th>\n",
              "      <td>Thu</td>\n",
              "      <td>Oct</td>\n",
              "      <td>1</td>\n",
              "      <td>2015</td>\n",
              "      <td>@nealaa ...advisory has only been issued for the Bahamas, but that could change.  To check for updates on Weather advisories &amp;amp;... 2/3</td>\n",
              "    </tr>\n",
              "    <tr>\n",
              "      <th>5</th>\n",
              "      <td>Thu</td>\n",
              "      <td>Oct</td>\n",
              "      <td>1</td>\n",
              "      <td>2015</td>\n",
              "      <td>@nealaa Hi. Our meteorologist team is aware of Hurricane Joaquin &amp;amp; monitors weather conditions at all times. At this time a weather... 1/3</td>\n",
              "    </tr>\n",
              "    <tr>\n",
              "      <th>6</th>\n",
              "      <td>Thu</td>\n",
              "      <td>Oct</td>\n",
              "      <td>1</td>\n",
              "      <td>2015</td>\n",
              "      <td>@BigGucciQueen  This is your direct dial number + 43 (0)1 360 277 3461. *DD</td>\n",
              "    </tr>\n",
              "    <tr>\n",
              "      <th>7</th>\n",
              "      <td>Thu</td>\n",
              "      <td>Oct</td>\n",
              "      <td>1</td>\n",
              "      <td>2015</td>\n",
              "      <td>@marxypoo ...for any inconvenience.  *JH 3/3</td>\n",
              "    </tr>\n",
              "    <tr>\n",
              "      <th>8</th>\n",
              "      <td>Thu</td>\n",
              "      <td>Oct</td>\n",
              "      <td>1</td>\n",
              "      <td>2015</td>\n",
              "      <td>@marxypoo ...the system &amp;amp; when you are ready to board the aircraft the correct seat assignment will be given to you. My apologies... 2/3</td>\n",
              "    </tr>\n",
              "    <tr>\n",
              "      <th>9</th>\n",
              "      <td>Thu</td>\n",
              "      <td>Oct</td>\n",
              "      <td>1</td>\n",
              "      <td>2015</td>\n",
              "      <td>@marxypoo Hi Marx. This is a known issue &amp;amp; our IT team members are working on a fix. Be assured, once you make the change it is in... 1/3</td>\n",
              "    </tr>\n",
              "  </tbody>\n",
              "</table>\n",
              "</div>\n",
              "      <button class=\"colab-df-convert\" onclick=\"convertToInteractive('df-22b2dfa9-66a5-419e-b455-496776170bbb')\"\n",
              "              title=\"Convert this dataframe to an interactive table.\"\n",
              "              style=\"display:none;\">\n",
              "        \n",
              "  <svg xmlns=\"http://www.w3.org/2000/svg\" height=\"24px\"viewBox=\"0 0 24 24\"\n",
              "       width=\"24px\">\n",
              "    <path d=\"M0 0h24v24H0V0z\" fill=\"none\"/>\n",
              "    <path d=\"M18.56 5.44l.94 2.06.94-2.06 2.06-.94-2.06-.94-.94-2.06-.94 2.06-2.06.94zm-11 1L8.5 8.5l.94-2.06 2.06-.94-2.06-.94L8.5 2.5l-.94 2.06-2.06.94zm10 10l.94 2.06.94-2.06 2.06-.94-2.06-.94-.94-2.06-.94 2.06-2.06.94z\"/><path d=\"M17.41 7.96l-1.37-1.37c-.4-.4-.92-.59-1.43-.59-.52 0-1.04.2-1.43.59L10.3 9.45l-7.72 7.72c-.78.78-.78 2.05 0 2.83L4 21.41c.39.39.9.59 1.41.59.51 0 1.02-.2 1.41-.59l7.78-7.78 2.81-2.81c.8-.78.8-2.07 0-2.86zM5.41 20L4 18.59l7.72-7.72 1.47 1.35L5.41 20z\"/>\n",
              "  </svg>\n",
              "      </button>\n",
              "      \n",
              "  <style>\n",
              "    .colab-df-container {\n",
              "      display:flex;\n",
              "      flex-wrap:wrap;\n",
              "      gap: 12px;\n",
              "    }\n",
              "\n",
              "    .colab-df-convert {\n",
              "      background-color: #E8F0FE;\n",
              "      border: none;\n",
              "      border-radius: 50%;\n",
              "      cursor: pointer;\n",
              "      display: none;\n",
              "      fill: #1967D2;\n",
              "      height: 32px;\n",
              "      padding: 0 0 0 0;\n",
              "      width: 32px;\n",
              "    }\n",
              "\n",
              "    .colab-df-convert:hover {\n",
              "      background-color: #E2EBFA;\n",
              "      box-shadow: 0px 1px 2px rgba(60, 64, 67, 0.3), 0px 1px 3px 1px rgba(60, 64, 67, 0.15);\n",
              "      fill: #174EA6;\n",
              "    }\n",
              "\n",
              "    [theme=dark] .colab-df-convert {\n",
              "      background-color: #3B4455;\n",
              "      fill: #D2E3FC;\n",
              "    }\n",
              "\n",
              "    [theme=dark] .colab-df-convert:hover {\n",
              "      background-color: #434B5C;\n",
              "      box-shadow: 0px 1px 3px 1px rgba(0, 0, 0, 0.15);\n",
              "      filter: drop-shadow(0px 1px 2px rgba(0, 0, 0, 0.3));\n",
              "      fill: #FFFFFF;\n",
              "    }\n",
              "  </style>\n",
              "\n",
              "      <script>\n",
              "        const buttonEl =\n",
              "          document.querySelector('#df-22b2dfa9-66a5-419e-b455-496776170bbb button.colab-df-convert');\n",
              "        buttonEl.style.display =\n",
              "          google.colab.kernel.accessAllowed ? 'block' : 'none';\n",
              "\n",
              "        async function convertToInteractive(key) {\n",
              "          const element = document.querySelector('#df-22b2dfa9-66a5-419e-b455-496776170bbb');\n",
              "          const dataTable =\n",
              "            await google.colab.kernel.invokeFunction('convertToInteractive',\n",
              "                                                     [key], {});\n",
              "          if (!dataTable) return;\n",
              "\n",
              "          const docLinkHtml = 'Like what you see? Visit the ' +\n",
              "            '<a target=\"_blank\" href=https://colab.research.google.com/notebooks/data_table.ipynb>data table notebook</a>'\n",
              "            + ' to learn more about interactive tables.';\n",
              "          element.innerHTML = '';\n",
              "          dataTable['output_type'] = 'display_data';\n",
              "          await google.colab.output.renderOutput(dataTable, element);\n",
              "          const docLink = document.createElement('div');\n",
              "          docLink.innerHTML = docLinkHtml;\n",
              "          element.appendChild(docLink);\n",
              "        }\n",
              "      </script>\n",
              "    </div>\n",
              "  </div>\n",
              "  "
            ]
          },
          "metadata": {},
          "execution_count": 4
        }
      ]
    },
    {
      "cell_type": "code",
      "source": [
        "df.info()"
      ],
      "metadata": {
        "colab": {
          "base_uri": "https://localhost:8080/"
        },
        "id": "ThS56qoHOakk",
        "outputId": "016a8ea8-dce7-43ca-e118-f5760b1aed41"
      },
      "execution_count": null,
      "outputs": [
        {
          "output_type": "stream",
          "name": "stdout",
          "text": [
            "<class 'pandas.core.frame.DataFrame'>\n",
            "RangeIndex: 1377 entries, 0 to 1376\n",
            "Data columns (total 5 columns):\n",
            " #   Column   Non-Null Count  Dtype \n",
            "---  ------   --------------  ----- \n",
            " 0   weekday  1377 non-null   object\n",
            " 1   month    1377 non-null   object\n",
            " 2   date     1377 non-null   int64 \n",
            " 3   year     1377 non-null   int64 \n",
            " 4   text     1377 non-null   object\n",
            "dtypes: int64(2), object(3)\n",
            "memory usage: 53.9+ KB\n"
          ]
        }
      ]
    },
    {
      "cell_type": "markdown",
      "source": [
        "1. What is the average length of a social customer service reply ?"
      ],
      "metadata": {
        "id": "2B9kfV6xOlIF"
      }
    },
    {
      "cell_type": "code",
      "source": [
        "df['text'].str.len().mean()\n",
        "print(\"Average length of a social customer service reply is\", df['text'].str.len().mean(),\".\")"
      ],
      "metadata": {
        "colab": {
          "base_uri": "https://localhost:8080/"
        },
        "id": "m6yWvf0FOarY",
        "outputId": "171cc997-2f31-4f8e-a6ff-0e0f7a7ed45a"
      },
      "execution_count": null,
      "outputs": [
        {
          "output_type": "stream",
          "name": "stdout",
          "text": [
            "Average length of a social customer service reply is 92.1445170660857 .\n"
          ]
        }
      ]
    },
    {
      "cell_type": "markdown",
      "source": [
        "2. What type of links were referenced most often ?"
      ],
      "metadata": {
        "id": "4NPoTvXdOq6o"
      }
    },
    {
      "cell_type": "code",
      "source": [
        "counts = {\"url\": 0, \"phone\": 0, \"dm\": 0}\n",
        "\n",
        "counts['url_links'] = df['text'].str.count('http').sum()\n",
        "counts['Phone_numbers'] = df['text'].str.count(r\"\\d{3}-\\d{3}-\\d{4}\").sum()\n",
        "counts['Direct_messages'] = df['text'].str.count('DM').sum()\n",
        "\n",
        "max_type = max(counts, key=counts.get)\n",
        "\n",
        "print(\"The type referenced most often:\", max_type)"
      ],
      "metadata": {
        "colab": {
          "base_uri": "https://localhost:8080/"
        },
        "id": "pfm-wVkCOauB",
        "outputId": "8e33d1a9-b5ea-4942-ae04-96a61eb6fa3a"
      },
      "execution_count": null,
      "outputs": [
        {
          "output_type": "stream",
          "name": "stdout",
          "text": [
            "The type referenced most often: Direct_messages\n"
          ]
        }
      ]
    },
    {
      "cell_type": "markdown",
      "source": [
        "3. How many people should be on a social media customer service team? "
      ],
      "metadata": {
        "id": "xvuXb3dkOu7f"
      }
    },
    {
      "cell_type": "code",
      "source": [
        "# Find all the name of customer service representative in reply * Two capital letters at the end of each reply\n",
        "name = df['text'].str.extract(r'\\*(\\w+)', expand=False).unique()\n",
        "print(name)\n",
        "# Count all unique name of customer service representative in reply\n",
        "count = df['text'].str.extract(r'\\*(\\w+)', expand=False).nunique()\n",
        "\n",
        "print(\"There should be around\",(count // 10) * 10,\"people on a social media customer service team.\")\n"
      ],
      "metadata": {
        "colab": {
          "base_uri": "https://localhost:8080/"
        },
        "id": "uFgFgBjCOaxO",
        "outputId": "8bc1222d-605b-4339-ca31-c0a1839c3d4a"
      },
      "execution_count": null,
      "outputs": [
        {
          "output_type": "stream",
          "name": "stdout",
          "text": [
            "['AA' 'JH' nan 'DD' 'RD' 'WG' 'NG' 'AB' 'MR' 'BB' 'KM' 'KC' 'TH' 'RB' 'SD'\n",
            " 'MD' 'VM' 'QB' 'PL' 'RS' 'CS' 'JJ' 'SB' 'EC' 'DR' 'LS' 'ML' 'CK' 'HW'\n",
            " 'TP' 'VI' 'AN' 'CM' 'AD']\n",
            "There should be around 30 people on a social media customer service team.\n"
          ]
        }
      ]
    },
    {
      "cell_type": "markdown",
      "source": [
        "4. How many social replies are reasonable for a customer service representative to handle?"
      ],
      "metadata": {
        "id": "IbG8rL2xOzKG"
      }
    },
    {
      "cell_type": "code",
      "source": [
        "# Caculate reply per each customer service representative\n",
        "cs_NAME = df['text'].str.extract(r'\\*(\\w+)', expand=False).value_counts()\n",
        "reply_count = pd.DataFrame({'cs_NAME': cs_NAME.index, 'counts': cs_NAME.values})\n",
        "\n",
        "print(\"A customer service representative is likely to handle about\",reply_count.mean(),\"replies per day.\")"
      ],
      "metadata": {
        "colab": {
          "base_uri": "https://localhost:8080/"
        },
        "id": "OWKSO-9hOa1K",
        "outputId": "3a4e3a85-5f6b-4b6c-ae33-8d913c24f396"
      },
      "execution_count": null,
      "outputs": [
        {
          "output_type": "stream",
          "name": "stdout",
          "text": [
            "A customer service representative is likely to handle about counts   35.76\n",
            "dtype: float64 replies per day.\n"
          ]
        }
      ]
    },
    {
      "cell_type": "markdown",
      "source": [
        "# **CASE II – Exploring the Imbalanced Dataset Problem**\n",
        "##Java Development Tools Bug Dataset"
      ],
      "metadata": {
        "id": "LBkVcajyO3p6"
      }
    },
    {
      "cell_type": "code",
      "source": [
        "import pandas as pd\n",
        "import numpy as np\n",
        "from sklearn.feature_extraction.text import CountVectorizer\n",
        "from sklearn.feature_extraction.text import TfidfVectorizer\n",
        "from sklearn.model_selection import train_test_split\n",
        "from sklearn.dummy import DummyClassifier\n",
        "from sklearn.metrics import accuracy_score, f1_score, roc_auc_score, average_precision_score, precision_score, recall_score\n",
        "from sklearn.dummy import DummyClassifier\n",
        "from sklearn.naive_bayes import MultinomialNB\n",
        "from sklearn.linear_model import LogisticRegression\n",
        "from sklearn.tree import DecisionTreeClassifier\n",
        "from sklearn.ensemble import RandomForestClassifier\n",
        "from imblearn.under_sampling import RandomUnderSampler\n",
        "from imblearn.over_sampling import RandomOverSampler\n",
        "from imblearn.over_sampling import SMOTE\n",
        "from imblearn.under_sampling import RandomUnderSampler"
      ],
      "metadata": {
        "id": "tAlfDvRLZZFG"
      },
      "execution_count": null,
      "outputs": []
    },
    {
      "cell_type": "code",
      "source": [
        "file = \"eclipse_jdt.csv\"\n",
        "df= pd.read_csv(file)\n",
        "df.info()\n",
        "df.head(3)"
      ],
      "metadata": {
        "colab": {
          "base_uri": "https://localhost:8080/",
          "height": 772
        },
        "id": "Hhp6wOgEZpWJ",
        "outputId": "2c067872-1976-4b27-a9ac-6079b9890d65"
      },
      "execution_count": null,
      "outputs": [
        {
          "output_type": "stream",
          "name": "stdout",
          "text": [
            "<class 'pandas.core.frame.DataFrame'>\n",
            "RangeIndex: 45296 entries, 0 to 45295\n",
            "Data columns (total 11 columns):\n",
            " #   Column            Non-Null Count  Dtype  \n",
            "---  ------            --------------  -----  \n",
            " 0   Issue_id          45296 non-null  int64  \n",
            " 1   Priority          45296 non-null  object \n",
            " 2   Component         45296 non-null  object \n",
            " 3   Duplicated_issue  7688 non-null   float64\n",
            " 4   Title             45296 non-null  object \n",
            " 5   Description       45253 non-null  object \n",
            " 6   Status            45296 non-null  object \n",
            " 7   Resolution        45296 non-null  object \n",
            " 8   Version           45296 non-null  object \n",
            " 9   Created_time      45296 non-null  object \n",
            " 10  Resolved_time     45296 non-null  object \n",
            "dtypes: float64(1), int64(1), object(9)\n",
            "memory usage: 3.8+ MB\n"
          ]
        },
        {
          "output_type": "execute_result",
          "data": {
            "text/plain": [
              "   Issue_id Priority Component  Duplicated_issue  \\\n",
              "0      1518       P1     Debug               NaN   \n",
              "1      1519       P3     Debug               NaN   \n",
              "2      1520       P3     Debug               NaN   \n",
              "\n",
              "                                   Title  \\\n",
              "0     Icons needed for actions (1GI5UXW)   \n",
              "1  README: Hit count not reset (1GET20Y)   \n",
              "2   Use styled text in console (1G9S1YF)   \n",
              "\n",
              "                                                                                                                                                                                               Description  \\\n",
              "0  JGS (8/8/01 5:20:19 PM); \\tWe need enabled; disabled & hover icons for the following actions:; \\t\\tCopyToClipboardActionDelegate; \\t\\tRelaunchActionDelegate; \\t\\tTerminateAndRemoveActionDelegate; ...   \n",
              "1  JGS (6/4/01 11:43:47 AM); \\tSet a breakpoint in InfiniteLoop with a hit count.  When suspended;; \\tright click breakpoint in Breakpoints viewer and enable.  Hit count; \\tstays at previous value.  ...   \n",
              "2                                         DW (2/26/01 5:56:36 PM); \\tCould allow users to use styled text in console; with preference support. This would; \\tallow console input to be shown in bold; etc.   \n",
              "\n",
              "     Status  Resolution Version               Created_time  \\\n",
              "0  VERIFIED       FIXED     2.0  2001-10-10 22:14:00 -0400   \n",
              "1  RESOLVED  WORKSFORME     2.0  2001-10-10 22:14:00 -0400   \n",
              "2    CLOSED     WONTFIX     2.0  2001-10-10 22:14:00 -0400   \n",
              "\n",
              "               Resolved_time  \n",
              "0  2001-10-18 11:51:14 -0400  \n",
              "1  2001-11-28 13:42:46 -0500  \n",
              "2  2002-06-26 11:32:05 -0400  "
            ],
            "text/html": [
              "\n",
              "  <div id=\"df-563b4b7a-f073-4bca-98c1-4bd9d3c36dc0\">\n",
              "    <div class=\"colab-df-container\">\n",
              "      <div>\n",
              "<style scoped>\n",
              "    .dataframe tbody tr th:only-of-type {\n",
              "        vertical-align: middle;\n",
              "    }\n",
              "\n",
              "    .dataframe tbody tr th {\n",
              "        vertical-align: top;\n",
              "    }\n",
              "\n",
              "    .dataframe thead th {\n",
              "        text-align: right;\n",
              "    }\n",
              "</style>\n",
              "<table border=\"1\" class=\"dataframe tex2jax_ignore\">\n",
              "  <thead>\n",
              "    <tr style=\"text-align: right;\">\n",
              "      <th></th>\n",
              "      <th>Issue_id</th>\n",
              "      <th>Priority</th>\n",
              "      <th>Component</th>\n",
              "      <th>Duplicated_issue</th>\n",
              "      <th>Title</th>\n",
              "      <th>Description</th>\n",
              "      <th>Status</th>\n",
              "      <th>Resolution</th>\n",
              "      <th>Version</th>\n",
              "      <th>Created_time</th>\n",
              "      <th>Resolved_time</th>\n",
              "    </tr>\n",
              "  </thead>\n",
              "  <tbody>\n",
              "    <tr>\n",
              "      <th>0</th>\n",
              "      <td>1518</td>\n",
              "      <td>P1</td>\n",
              "      <td>Debug</td>\n",
              "      <td>NaN</td>\n",
              "      <td>Icons needed for actions (1GI5UXW)</td>\n",
              "      <td>JGS (8/8/01 5:20:19 PM); \\tWe need enabled; disabled &amp; hover icons for the following actions:; \\t\\tCopyToClipboardActionDelegate; \\t\\tRelaunchActionDelegate; \\t\\tTerminateAndRemoveActionDelegate; ...</td>\n",
              "      <td>VERIFIED</td>\n",
              "      <td>FIXED</td>\n",
              "      <td>2.0</td>\n",
              "      <td>2001-10-10 22:14:00 -0400</td>\n",
              "      <td>2001-10-18 11:51:14 -0400</td>\n",
              "    </tr>\n",
              "    <tr>\n",
              "      <th>1</th>\n",
              "      <td>1519</td>\n",
              "      <td>P3</td>\n",
              "      <td>Debug</td>\n",
              "      <td>NaN</td>\n",
              "      <td>README: Hit count not reset (1GET20Y)</td>\n",
              "      <td>JGS (6/4/01 11:43:47 AM); \\tSet a breakpoint in InfiniteLoop with a hit count.  When suspended;; \\tright click breakpoint in Breakpoints viewer and enable.  Hit count; \\tstays at previous value.  ...</td>\n",
              "      <td>RESOLVED</td>\n",
              "      <td>WORKSFORME</td>\n",
              "      <td>2.0</td>\n",
              "      <td>2001-10-10 22:14:00 -0400</td>\n",
              "      <td>2001-11-28 13:42:46 -0500</td>\n",
              "    </tr>\n",
              "    <tr>\n",
              "      <th>2</th>\n",
              "      <td>1520</td>\n",
              "      <td>P3</td>\n",
              "      <td>Debug</td>\n",
              "      <td>NaN</td>\n",
              "      <td>Use styled text in console (1G9S1YF)</td>\n",
              "      <td>DW (2/26/01 5:56:36 PM); \\tCould allow users to use styled text in console; with preference support. This would; \\tallow console input to be shown in bold; etc.</td>\n",
              "      <td>CLOSED</td>\n",
              "      <td>WONTFIX</td>\n",
              "      <td>2.0</td>\n",
              "      <td>2001-10-10 22:14:00 -0400</td>\n",
              "      <td>2002-06-26 11:32:05 -0400</td>\n",
              "    </tr>\n",
              "  </tbody>\n",
              "</table>\n",
              "</div>\n",
              "      <button class=\"colab-df-convert\" onclick=\"convertToInteractive('df-563b4b7a-f073-4bca-98c1-4bd9d3c36dc0')\"\n",
              "              title=\"Convert this dataframe to an interactive table.\"\n",
              "              style=\"display:none;\">\n",
              "        \n",
              "  <svg xmlns=\"http://www.w3.org/2000/svg\" height=\"24px\"viewBox=\"0 0 24 24\"\n",
              "       width=\"24px\">\n",
              "    <path d=\"M0 0h24v24H0V0z\" fill=\"none\"/>\n",
              "    <path d=\"M18.56 5.44l.94 2.06.94-2.06 2.06-.94-2.06-.94-.94-2.06-.94 2.06-2.06.94zm-11 1L8.5 8.5l.94-2.06 2.06-.94-2.06-.94L8.5 2.5l-.94 2.06-2.06.94zm10 10l.94 2.06.94-2.06 2.06-.94-2.06-.94-.94-2.06-.94 2.06-2.06.94z\"/><path d=\"M17.41 7.96l-1.37-1.37c-.4-.4-.92-.59-1.43-.59-.52 0-1.04.2-1.43.59L10.3 9.45l-7.72 7.72c-.78.78-.78 2.05 0 2.83L4 21.41c.39.39.9.59 1.41.59.51 0 1.02-.2 1.41-.59l7.78-7.78 2.81-2.81c.8-.78.8-2.07 0-2.86zM5.41 20L4 18.59l7.72-7.72 1.47 1.35L5.41 20z\"/>\n",
              "  </svg>\n",
              "      </button>\n",
              "      \n",
              "  <style>\n",
              "    .colab-df-container {\n",
              "      display:flex;\n",
              "      flex-wrap:wrap;\n",
              "      gap: 12px;\n",
              "    }\n",
              "\n",
              "    .colab-df-convert {\n",
              "      background-color: #E8F0FE;\n",
              "      border: none;\n",
              "      border-radius: 50%;\n",
              "      cursor: pointer;\n",
              "      display: none;\n",
              "      fill: #1967D2;\n",
              "      height: 32px;\n",
              "      padding: 0 0 0 0;\n",
              "      width: 32px;\n",
              "    }\n",
              "\n",
              "    .colab-df-convert:hover {\n",
              "      background-color: #E2EBFA;\n",
              "      box-shadow: 0px 1px 2px rgba(60, 64, 67, 0.3), 0px 1px 3px 1px rgba(60, 64, 67, 0.15);\n",
              "      fill: #174EA6;\n",
              "    }\n",
              "\n",
              "    [theme=dark] .colab-df-convert {\n",
              "      background-color: #3B4455;\n",
              "      fill: #D2E3FC;\n",
              "    }\n",
              "\n",
              "    [theme=dark] .colab-df-convert:hover {\n",
              "      background-color: #434B5C;\n",
              "      box-shadow: 0px 1px 3px 1px rgba(0, 0, 0, 0.15);\n",
              "      filter: drop-shadow(0px 1px 2px rgba(0, 0, 0, 0.3));\n",
              "      fill: #FFFFFF;\n",
              "    }\n",
              "  </style>\n",
              "\n",
              "      <script>\n",
              "        const buttonEl =\n",
              "          document.querySelector('#df-563b4b7a-f073-4bca-98c1-4bd9d3c36dc0 button.colab-df-convert');\n",
              "        buttonEl.style.display =\n",
              "          google.colab.kernel.accessAllowed ? 'block' : 'none';\n",
              "\n",
              "        async function convertToInteractive(key) {\n",
              "          const element = document.querySelector('#df-563b4b7a-f073-4bca-98c1-4bd9d3c36dc0');\n",
              "          const dataTable =\n",
              "            await google.colab.kernel.invokeFunction('convertToInteractive',\n",
              "                                                     [key], {});\n",
              "          if (!dataTable) return;\n",
              "\n",
              "          const docLinkHtml = 'Like what you see? Visit the ' +\n",
              "            '<a target=\"_blank\" href=https://colab.research.google.com/notebooks/data_table.ipynb>data table notebook</a>'\n",
              "            + ' to learn more about interactive tables.';\n",
              "          element.innerHTML = '';\n",
              "          dataTable['output_type'] = 'display_data';\n",
              "          await google.colab.output.renderOutput(dataTable, element);\n",
              "          const docLink = document.createElement('div');\n",
              "          docLink.innerHTML = docLinkHtml;\n",
              "          element.appendChild(docLink);\n",
              "        }\n",
              "      </script>\n",
              "    </div>\n",
              "  </div>\n",
              "  "
            ]
          },
          "metadata": {},
          "execution_count": 14
        }
      ]
    },
    {
      "cell_type": "markdown",
      "source": [
        "##STEP 1 - Recode the outcome into a binary variable"
      ],
      "metadata": {
        "id": "fcWJq3fxZ0JF"
      }
    },
    {
      "cell_type": "code",
      "source": [
        "# Recode the outcome into a binary variable\n",
        "df['new_priority'] = df['Priority'].apply(lambda x: 1 if x == 'P3' else 0)\n",
        "\n",
        "# Split the dataset into train and test sets\n",
        "train_df, test_df = train_test_split(df, test_size=0.3, random_state=42)\n"
      ],
      "metadata": {
        "id": "wlT8YKLvZ0V2"
      },
      "execution_count": null,
      "outputs": []
    },
    {
      "cell_type": "markdown",
      "source": [
        "##STEP 2 - Vectorization"
      ],
      "metadata": {
        "id": "n1WRv0b4Z6uG"
      }
    },
    {
      "cell_type": "code",
      "source": [
        "from sklearn.feature_extraction.text import TfidfVectorizer\n",
        "\n",
        "# Replace missing values with empty string in the train data\n",
        "train_df['Description'] = train_df['Description'].fillna('')\n",
        "\n",
        "# Replace missing values with empty string in the test data\n",
        "test_df['Description'] = test_df['Description'].fillna('')\n",
        "\n",
        "# Initialize the vectorizer\n",
        "vectorizer = TfidfVectorizer()\n",
        "\n",
        "# Transform the train data using the vectorizer\n",
        "X_train = vectorizer.fit_transform(train_df['Description'])\n",
        "y_train = train_df['new_priority']\n",
        "\n",
        "# Transform the test data using the same vectorizer\n",
        "X_test = vectorizer.transform(test_df['Description'])\n",
        "y_test = test_df['new_priority']\n"
      ],
      "metadata": {
        "id": "JW-d1nDnZ70I"
      },
      "execution_count": null,
      "outputs": []
    },
    {
      "cell_type": "markdown",
      "source": [
        "##STEP 3 - Build Reference Results"
      ],
      "metadata": {
        "id": "TkH7s93zaDFH"
      }
    },
    {
      "cell_type": "code",
      "source": [
        "# Keeping the trivial classifier as a baseline, select 5 different classifiers to be compared\n",
        "classifiers = [    (\"Baseline\", DummyClassifier(strategy=\"most_frequent\")),    (\"MultinomialNB\", MultinomialNB()),    (\"LogisticRegression\", LogisticRegression(max_iter=1000)),    (\"DecisionTreeClassifier\", DecisionTreeClassifier()),    (\"RandomForestClassifier\", RandomForestClassifier(n_estimators=100))]\n",
        "\n",
        "# Evaluate the performance of each classifier on the test set\n",
        "for name, classifier in classifiers:\n",
        "    classifier.fit(X_train, y_train)\n",
        "    y_pred = classifier.predict(X_test)\n",
        "    accuracy = accuracy_score(y_test, y_pred)\n",
        "    f1 = f1_score(y_test, y_pred)\n",
        "    roc_auc = roc_auc_score(y_test, y_pred)\n",
        "    precision = precision_score(y_test, y_pred)\n",
        "    recall = recall_score(y_test, y_pred)\n",
        " \n",
        "\n",
        "    # Print evaluation results\n",
        "    print(name)\n",
        "    print(\"Accuracy:\", accuracy)\n",
        "    print(\"F1-Score:\", f1)\n",
        "    print(\"ROC AUC:\", roc_auc)\n",
        "    print(\"Precision:\", precision)\n",
        "    print(\"Recall:\", recall)\n",
        "    print(\"\\n\")\n",
        "  "
      ],
      "metadata": {
        "colab": {
          "base_uri": "https://localhost:8080/"
        },
        "id": "eesfNyJGaF3R",
        "outputId": "b3ec9a07-6c96-477e-8e82-ae5bc0e67a7b"
      },
      "execution_count": null,
      "outputs": [
        {
          "output_type": "stream",
          "name": "stdout",
          "text": [
            "Baseline\n",
            "Accuracy: 0.8738685701670469\n",
            "F1-Score: 0.932689286836318\n",
            "ROC AUC: 0.5\n",
            "Precision: 0.8738685701670469\n",
            "Recall: 1.0\n",
            "\n",
            "\n",
            "MultinomialNB\n",
            "Accuracy: 0.8738685701670469\n",
            "F1-Score: 0.932689286836318\n",
            "ROC AUC: 0.5\n",
            "Precision: 0.8738685701670469\n",
            "Recall: 1.0\n",
            "\n",
            "\n",
            "LogisticRegression\n",
            "Accuracy: 0.8757082934726617\n",
            "F1-Score: 0.9332490218551159\n",
            "ROC AUC: 0.5242663636921943\n",
            "Precision: 0.8792820971105153\n",
            "Recall: 0.9942736842105263\n",
            "\n",
            "\n",
            "DecisionTreeClassifier\n",
            "Accuracy: 0.8186032820663772\n",
            "F1-Score: 0.8971674106211672\n",
            "ROC AUC: 0.5609842657986857\n",
            "Precision: 0.8889715608465608\n",
            "Recall: 0.9055157894736842\n",
            "\n",
            "\n",
            "RandomForestClassifier\n",
            "Accuracy: 0.8750459930826404\n",
            "F1-Score: 0.933096926713948\n",
            "ROC AUC: 0.5131541853466806\n",
            "Precision: 0.8767863754165124\n",
            "Recall: 0.9971368421052632\n",
            "\n",
            "\n"
          ]
        }
      ]
    },
    {
      "cell_type": "markdown",
      "source": [
        "##STEP 4 - Undersampling the majority class"
      ],
      "metadata": {
        "id": "kWmjBAhwbFTm"
      }
    },
    {
      "cell_type": "code",
      "source": [
        "# Create an instance of RandomUnderSampler\n",
        "rus = RandomUnderSampler(random_state=42)\n",
        "\n",
        "# Resample the training data\n",
        "X_resampled, y_resampled = rus.fit_resample(X_train, train_df['new_priority'])\n",
        "\n",
        "# Train a new Naive Bayes model on the resampled data\n",
        "nb = MultinomialNB()\n",
        "nb.fit(X_resampled, y_resampled)\n",
        "\n",
        "# Predict the class labels for the test data\n",
        "y_pred = nb.predict(X_test)\n",
        "\n",
        "# Evaluate the model performance on the test data\n",
        "accuracy = accuracy_score(test_df['new_priority'], y_pred)\n",
        "f1_score = f1_score(test_df['new_priority'], y_pred)\n",
        "roc_auc = roc_auc_score(test_df['new_priority'], y_pred)\n",
        "precision = precision_score(test_df['new_priority'], y_pred)\n",
        "recall = recall_score(test_df['new_priority'], y_pred)\n",
        "\n",
        "# Print evaluation results\n",
        "print(\"Undersampling Results:\")\n",
        "print(\"Accuracy:\", accuracy)\n",
        "print(\"F1-Score:\", f1_score)\n",
        "print(\"ROC AUC:\", roc_auc)\n",
        "print(\"Precision:\", precision)\n",
        "print(\"Recall:\", recall)\n",
        "\n"
      ],
      "metadata": {
        "colab": {
          "base_uri": "https://localhost:8080/"
        },
        "id": "APB1iedpbJNp",
        "outputId": "dd923bcb-f8e6-4bfa-873a-3d8414cb0aed"
      },
      "execution_count": null,
      "outputs": [
        {
          "output_type": "stream",
          "name": "stdout",
          "text": [
            "Undersampling Results:\n",
            "Accuracy: 0.6190300978732799\n",
            "F1-Score: 0.7365796570498143\n",
            "ROC AUC: 0.6472316403611128\n",
            "Precision: 0.9305734121882232\n",
            "Recall: 0.6095157894736842\n"
          ]
        }
      ]
    },
    {
      "cell_type": "markdown",
      "source": [
        "##STEP 5 - Oversampling the minority class"
      ],
      "metadata": {
        "id": "ZRizWW3jbPdy"
      }
    },
    {
      "cell_type": "code",
      "source": [
        "from imblearn.over_sampling import RandomOverSampler\n",
        "from sklearn.metrics import (accuracy_score, f1_score, cohen_kappa_score,\n",
        "                             roc_auc_score, average_precision_score,\n",
        "                             precision_recall_curve, precision_recall_fscore_support)\n",
        "\n",
        "# Initialize the oversampler\n",
        "oversampler = RandomOverSampler(random_state=42)\n",
        "\n",
        "# Resample the training data using the oversampler\n",
        "X_train_oversampled, y_train_oversampled = oversampler.fit_resample(X_train, train_df['new_priority'])\n",
        "\n",
        "# Train the model on the oversampled data\n",
        "nb.fit(X_train_oversampled, y_train_oversampled)\n",
        "\n",
        "# Make predictions on the test data\n",
        "y_pred = nb.predict(X_test)\n",
        "\n",
        "# Evaluate the model on the test data\n",
        "accuracy = accuracy_score(test_df['new_priority'], y_pred)\n",
        "f1 = f1_score(test_df['new_priority'], y_pred)\n",
        "roc_auc = roc_auc_score(test_df['new_priority'], y_pred)\n",
        "precision = precision_score(test_df['new_priority'], y_pred)\n",
        "recall = recall_score(test_df['new_priority'], y_pred)\n",
        "\n",
        "\n",
        "# Print evaluation results\n",
        "print(\"Oversampling Results:\")\n",
        "print(\"Accuracy:\", accuracy)\n",
        "print(\"F1-Score:\", f1)\n",
        "print(\"ROC AUC:\", roc_auc)\n",
        "print(\"Precision:\", precision)\n",
        "print(\"Recall:\", recall)\n",
        "\n"
      ],
      "metadata": {
        "colab": {
          "base_uri": "https://localhost:8080/"
        },
        "id": "0A3jcfeAbSWo",
        "outputId": "e1b1d215-a806-4a7d-aa9c-9fd23e0fa2f1"
      },
      "execution_count": null,
      "outputs": [
        {
          "output_type": "stream",
          "name": "stdout",
          "text": [
            "Oversampling Results:\n",
            "Accuracy: 0.6984325557436162\n",
            "F1-Score: 0.8055054579971523\n",
            "ROC AUC: 0.6504791254682799\n",
            "Precision: 0.9228928765633496\n",
            "Recall: 0.7146105263157895\n"
          ]
        }
      ]
    },
    {
      "cell_type": "markdown",
      "source": [
        "##STEP 6 - SMOTE"
      ],
      "metadata": {
        "id": "-f8staYybXfi"
      }
    },
    {
      "cell_type": "code",
      "source": [
        "from imblearn.over_sampling import SMOTE\n",
        "\n",
        "# Create SMOTE object\n",
        "smote = SMOTE(random_state=42)\n",
        "\n",
        "# Resample training data using SMOTE\n",
        "X_train_resampled, y_train_resampled = smote.fit_resample(X_train, y_train)\n",
        "\n",
        "# Create logistic regression object\n",
        "clf = LogisticRegression(random_state=42, max_iter=1000)\n",
        "\n",
        "# Train and predict on the resampled training data\n",
        "clf.fit(X_train_resampled, y_train_resampled)\n",
        "y_pred = clf.predict(X_test)\n",
        "\n",
        "# Evaluate performance\n",
        "accuracy = accuracy_score(test_df['new_priority'], y_pred)\n",
        "f1_s = f1_score(test_df['new_priority'], y_pred)\n",
        "roc_auc = roc_auc_score(test_df['new_priority'], y_pred)\n",
        "precision = precision_score(test_df['new_priority'], y_pred)\n",
        "recall = recall_score(test_df['new_priority'], y_pred)\n",
        "\n",
        "\n",
        "# Print evaluation results\n",
        "print(\"SMOTE\")\n",
        "print(\"Accuracy:\", accuracy)\n",
        "print(\"F1 Score:\", f1_s)\n",
        "print(\"ROC AUC Score:\", roc_auc)\n",
        "print(\"Precision:\", precision)\n",
        "print(\"Recall:\", recall)\n",
        "\n"
      ],
      "metadata": {
        "colab": {
          "base_uri": "https://localhost:8080/"
        },
        "id": "KEOsJSo_bao9",
        "outputId": "fc1b9f7a-753c-40d7-d38c-3b58814d4509"
      },
      "execution_count": null,
      "outputs": [
        {
          "output_type": "stream",
          "name": "stdout",
          "text": [
            "SMOTE\n",
            "Accuracy: 0.7733460887482523\n",
            "F1 Score: 0.8645915765409302\n",
            "ROC AUC Score: 0.6112205858871216\n",
            "Precision: 0.9045166038082973\n",
            "Recall: 0.8280421052631579\n"
          ]
        }
      ]
    },
    {
      "cell_type": "markdown",
      "source": [
        "# **Case III: An exploration of the impact of vectorization on classification**"
      ],
      "metadata": {
        "id": "JfHfBUnDxvyB"
      }
    },
    {
      "cell_type": "code",
      "execution_count": null,
      "metadata": {
        "id": "RxJM9RFZBL-6"
      },
      "outputs": [],
      "source": [
        "# suppress warnings\n",
        "import warnings;\n",
        "warnings.filterwarnings('ignore');\n",
        "\n",
        "# common imports\n",
        "import pandas as pd\n",
        "import numpy as np\n",
        "import math\n",
        "import re\n",
        "import glob\n",
        "import os\n",
        "import sys\n",
        "import json\n",
        "import random\n",
        "import pprint as pp\n",
        "import textwrap\n",
        "import sqlite3\n",
        "import logging\n",
        "\n",
        "import spacy\n",
        "import nltk\n",
        "\n",
        "from tqdm.auto import tqdm\n",
        "# register `pandas.progress_apply` and `pandas.Series.map_apply` with `tqdm`\n",
        "tqdm.pandas()\n",
        "\n",
        "# pandas display options\n",
        "# https://pandas.pydata.org/pandas-docs/stable/user_guide/options.html#available-options\n",
        "pd.options.display.max_columns = 30 # default 20\n",
        "pd.options.display.max_rows = 60 # default 60\n",
        "pd.options.display.float_format = '{:.2f}'.format\n",
        "# pd.options.display.precision = 2\n",
        "pd.options.display.max_colwidth = 200 # default 50; -1 = all\n",
        "# otherwise text between $ signs will be interpreted as formula and printed in italic\n",
        "pd.set_option('display.html.use_mathjax', False)\n",
        "\n",
        "# np.set_printoptions(edgeitems=3) # default 3\n",
        "\n",
        "import matplotlib\n",
        "from matplotlib import pyplot as plt\n",
        "\n",
        "plot_params = {'figure.figsize': (8, 4), \n",
        "               'axes.labelsize': 'large',\n",
        "               'axes.titlesize': 'large',\n",
        "               'xtick.labelsize': 'large',\n",
        "               'ytick.labelsize':'large',\n",
        "               'figure.dpi': 100}\n",
        "# adjust matplotlib defaults\n",
        "matplotlib.rcParams.update(plot_params)\n",
        "\n",
        "import seaborn as sns\n",
        "sns.set_style(\"darkgrid\")"
      ]
    },
    {
      "cell_type": "code",
      "execution_count": null,
      "metadata": {
        "colab": {
          "base_uri": "https://localhost:8080/"
        },
        "id": "X6kU2lz-q2sC",
        "outputId": "5b0fac34-3c95-4df4-aa55-08f140b32ba1"
      },
      "outputs": [
        {
          "output_type": "stream",
          "name": "stderr",
          "text": [
            "[nltk_data] Downloading package punkt to /root/nltk_data...\n",
            "[nltk_data]   Package punkt is already up-to-date!\n",
            "[nltk_data] Downloading package stopwords to /root/nltk_data...\n",
            "[nltk_data]   Package stopwords is already up-to-date!\n",
            "[nltk_data] Downloading package wordnet to /root/nltk_data...\n",
            "[nltk_data]   Package wordnet is already up-to-date!\n"
          ]
        }
      ],
      "source": [
        "import nltk\n",
        "nltk.download('punkt')\n",
        "nltk.download('stopwords')\n",
        "nltk.download('wordnet')\n",
        "from nltk.corpus import stopwords\n",
        "from nltk.tokenize import word_tokenize\n",
        "from nltk.stem import WordNetLemmatizer\n",
        "from sklearn.feature_extraction.text import TfidfVectorizer\n",
        "from sklearn.ensemble import RandomForestClassifier\n",
        "from sklearn.model_selection import train_test_split\n",
        "from sklearn.metrics import accuracy_score, confusion_matrix\n",
        "from sklearn.metrics import ConfusionMatrixDisplay\n",
        "from sklearn.metrics import classification_report\n",
        "from sklearn.feature_extraction.text import CountVectorizer\n",
        "from sklearn.decomposition import NMF\n",
        "from sklearn.decomposition import TruncatedSVD\n",
        "from gensim.models import Word2Vec\n",
        "from sklearn.decomposition import LatentDirichletAllocation"
      ]
    },
    {
      "cell_type": "code",
      "execution_count": null,
      "metadata": {
        "colab": {
          "base_uri": "https://localhost:8080/",
          "height": 285
        },
        "id": "CEpPyicGCBKD",
        "outputId": "761b1560-e183-4b74-dad1-8641491f5a4d"
      },
      "outputs": [
        {
          "output_type": "execute_result",
          "data": {
            "text/plain": [
              "   overall  verified   reviewTime      reviewerID        asin  \\\n",
              "0        1      True  03 12, 2018  A3QY3THQ42WSCQ  B000YFSR5G   \n",
              "1        1      True  03 12, 2018  A3QY3THQ42WSCQ  B000YFSR4W   \n",
              "2        1      True   02 8, 2017  A21HH0VIBKK80J  B000YFSR5G   \n",
              "3        1      True   02 8, 2017  A21HH0VIBKK80J  B000YFSR4W   \n",
              "4        1      True  02 19, 2018  A276HQXYS553QW  B0014F8TIU   \n",
              "\n",
              "                                                                                                                         reviewText  \\\n",
              "0                                                                                                                    Waaaay too BIG   \n",
              "1                                                                                                                    Waaaay too BIG   \n",
              "2  Was terribly disappointed, the pants were way too large in the legs, my husband looked like he was wearing blown up clown pants.   \n",
              "3  Was terribly disappointed, the pants were way too large in the legs, my husband looked like he was wearing blown up clown pants.   \n",
              "4                                                                                                             Constantly rolls down   \n",
              "\n",
              "                                                          summary  \\\n",
              "0                                                        One Star   \n",
              "1                                                        One Star   \n",
              "2  Was terribly disappointed, the pants were way too large in ...   \n",
              "3  Was terribly disappointed, the pants were way too large in ...   \n",
              "4                                                        One Star   \n",
              "\n",
              "   unixReviewTime  \n",
              "0      1520812800  \n",
              "1      1520812800  \n",
              "2      1486512000  \n",
              "3      1486512000  \n",
              "4      1518998400  "
            ],
            "text/html": [
              "\n",
              "  <div id=\"df-a23e8f7a-72a1-468e-935c-be7b7dae2031\">\n",
              "    <div class=\"colab-df-container\">\n",
              "      <div>\n",
              "<style scoped>\n",
              "    .dataframe tbody tr th:only-of-type {\n",
              "        vertical-align: middle;\n",
              "    }\n",
              "\n",
              "    .dataframe tbody tr th {\n",
              "        vertical-align: top;\n",
              "    }\n",
              "\n",
              "    .dataframe thead th {\n",
              "        text-align: right;\n",
              "    }\n",
              "</style>\n",
              "<table border=\"1\" class=\"dataframe tex2jax_ignore\">\n",
              "  <thead>\n",
              "    <tr style=\"text-align: right;\">\n",
              "      <th></th>\n",
              "      <th>overall</th>\n",
              "      <th>verified</th>\n",
              "      <th>reviewTime</th>\n",
              "      <th>reviewerID</th>\n",
              "      <th>asin</th>\n",
              "      <th>reviewText</th>\n",
              "      <th>summary</th>\n",
              "      <th>unixReviewTime</th>\n",
              "    </tr>\n",
              "  </thead>\n",
              "  <tbody>\n",
              "    <tr>\n",
              "      <th>0</th>\n",
              "      <td>1</td>\n",
              "      <td>True</td>\n",
              "      <td>03 12, 2018</td>\n",
              "      <td>A3QY3THQ42WSCQ</td>\n",
              "      <td>B000YFSR5G</td>\n",
              "      <td>Waaaay too BIG</td>\n",
              "      <td>One Star</td>\n",
              "      <td>1520812800</td>\n",
              "    </tr>\n",
              "    <tr>\n",
              "      <th>1</th>\n",
              "      <td>1</td>\n",
              "      <td>True</td>\n",
              "      <td>03 12, 2018</td>\n",
              "      <td>A3QY3THQ42WSCQ</td>\n",
              "      <td>B000YFSR4W</td>\n",
              "      <td>Waaaay too BIG</td>\n",
              "      <td>One Star</td>\n",
              "      <td>1520812800</td>\n",
              "    </tr>\n",
              "    <tr>\n",
              "      <th>2</th>\n",
              "      <td>1</td>\n",
              "      <td>True</td>\n",
              "      <td>02 8, 2017</td>\n",
              "      <td>A21HH0VIBKK80J</td>\n",
              "      <td>B000YFSR5G</td>\n",
              "      <td>Was terribly disappointed, the pants were way too large in the legs, my husband looked like he was wearing blown up clown pants.</td>\n",
              "      <td>Was terribly disappointed, the pants were way too large in ...</td>\n",
              "      <td>1486512000</td>\n",
              "    </tr>\n",
              "    <tr>\n",
              "      <th>3</th>\n",
              "      <td>1</td>\n",
              "      <td>True</td>\n",
              "      <td>02 8, 2017</td>\n",
              "      <td>A21HH0VIBKK80J</td>\n",
              "      <td>B000YFSR4W</td>\n",
              "      <td>Was terribly disappointed, the pants were way too large in the legs, my husband looked like he was wearing blown up clown pants.</td>\n",
              "      <td>Was terribly disappointed, the pants were way too large in ...</td>\n",
              "      <td>1486512000</td>\n",
              "    </tr>\n",
              "    <tr>\n",
              "      <th>4</th>\n",
              "      <td>1</td>\n",
              "      <td>True</td>\n",
              "      <td>02 19, 2018</td>\n",
              "      <td>A276HQXYS553QW</td>\n",
              "      <td>B0014F8TIU</td>\n",
              "      <td>Constantly rolls down</td>\n",
              "      <td>One Star</td>\n",
              "      <td>1518998400</td>\n",
              "    </tr>\n",
              "  </tbody>\n",
              "</table>\n",
              "</div>\n",
              "      <button class=\"colab-df-convert\" onclick=\"convertToInteractive('df-a23e8f7a-72a1-468e-935c-be7b7dae2031')\"\n",
              "              title=\"Convert this dataframe to an interactive table.\"\n",
              "              style=\"display:none;\">\n",
              "        \n",
              "  <svg xmlns=\"http://www.w3.org/2000/svg\" height=\"24px\"viewBox=\"0 0 24 24\"\n",
              "       width=\"24px\">\n",
              "    <path d=\"M0 0h24v24H0V0z\" fill=\"none\"/>\n",
              "    <path d=\"M18.56 5.44l.94 2.06.94-2.06 2.06-.94-2.06-.94-.94-2.06-.94 2.06-2.06.94zm-11 1L8.5 8.5l.94-2.06 2.06-.94-2.06-.94L8.5 2.5l-.94 2.06-2.06.94zm10 10l.94 2.06.94-2.06 2.06-.94-2.06-.94-.94-2.06-.94 2.06-2.06.94z\"/><path d=\"M17.41 7.96l-1.37-1.37c-.4-.4-.92-.59-1.43-.59-.52 0-1.04.2-1.43.59L10.3 9.45l-7.72 7.72c-.78.78-.78 2.05 0 2.83L4 21.41c.39.39.9.59 1.41.59.51 0 1.02-.2 1.41-.59l7.78-7.78 2.81-2.81c.8-.78.8-2.07 0-2.86zM5.41 20L4 18.59l7.72-7.72 1.47 1.35L5.41 20z\"/>\n",
              "  </svg>\n",
              "      </button>\n",
              "      \n",
              "  <style>\n",
              "    .colab-df-container {\n",
              "      display:flex;\n",
              "      flex-wrap:wrap;\n",
              "      gap: 12px;\n",
              "    }\n",
              "\n",
              "    .colab-df-convert {\n",
              "      background-color: #E8F0FE;\n",
              "      border: none;\n",
              "      border-radius: 50%;\n",
              "      cursor: pointer;\n",
              "      display: none;\n",
              "      fill: #1967D2;\n",
              "      height: 32px;\n",
              "      padding: 0 0 0 0;\n",
              "      width: 32px;\n",
              "    }\n",
              "\n",
              "    .colab-df-convert:hover {\n",
              "      background-color: #E2EBFA;\n",
              "      box-shadow: 0px 1px 2px rgba(60, 64, 67, 0.3), 0px 1px 3px 1px rgba(60, 64, 67, 0.15);\n",
              "      fill: #174EA6;\n",
              "    }\n",
              "\n",
              "    [theme=dark] .colab-df-convert {\n",
              "      background-color: #3B4455;\n",
              "      fill: #D2E3FC;\n",
              "    }\n",
              "\n",
              "    [theme=dark] .colab-df-convert:hover {\n",
              "      background-color: #434B5C;\n",
              "      box-shadow: 0px 1px 3px 1px rgba(0, 0, 0, 0.15);\n",
              "      filter: drop-shadow(0px 1px 2px rgba(0, 0, 0, 0.3));\n",
              "      fill: #FFFFFF;\n",
              "    }\n",
              "  </style>\n",
              "\n",
              "      <script>\n",
              "        const buttonEl =\n",
              "          document.querySelector('#df-a23e8f7a-72a1-468e-935c-be7b7dae2031 button.colab-df-convert');\n",
              "        buttonEl.style.display =\n",
              "          google.colab.kernel.accessAllowed ? 'block' : 'none';\n",
              "\n",
              "        async function convertToInteractive(key) {\n",
              "          const element = document.querySelector('#df-a23e8f7a-72a1-468e-935c-be7b7dae2031');\n",
              "          const dataTable =\n",
              "            await google.colab.kernel.invokeFunction('convertToInteractive',\n",
              "                                                     [key], {});\n",
              "          if (!dataTable) return;\n",
              "\n",
              "          const docLinkHtml = 'Like what you see? Visit the ' +\n",
              "            '<a target=\"_blank\" href=https://colab.research.google.com/notebooks/data_table.ipynb>data table notebook</a>'\n",
              "            + ' to learn more about interactive tables.';\n",
              "          element.innerHTML = '';\n",
              "          dataTable['output_type'] = 'display_data';\n",
              "          await google.colab.output.renderOutput(dataTable, element);\n",
              "          const docLink = document.createElement('div');\n",
              "          docLink.innerHTML = docLinkHtml;\n",
              "          element.appendChild(docLink);\n",
              "        }\n",
              "      </script>\n",
              "    </div>\n",
              "  </div>\n",
              "  "
            ]
          },
          "metadata": {},
          "execution_count": 60
        }
      ],
      "source": [
        "df = pd.read_json(\"reviews_5_balanced.json\", lines=True)\n",
        "df.head()"
      ]
    },
    {
      "cell_type": "code",
      "execution_count": null,
      "metadata": {
        "colab": {
          "base_uri": "https://localhost:8080/"
        },
        "id": "pcA0FCBsCmej",
        "outputId": "ff91cd26-196d-4745-dcae-89c15f0f5cff"
      },
      "outputs": [
        {
          "output_type": "stream",
          "name": "stdout",
          "text": [
            "<class 'pandas.core.frame.DataFrame'>\n",
            "RangeIndex: 294240 entries, 0 to 294239\n",
            "Data columns (total 8 columns):\n",
            " #   Column          Non-Null Count   Dtype \n",
            "---  ------          --------------   ----- \n",
            " 0   overall         294240 non-null  int64 \n",
            " 1   verified        294240 non-null  bool  \n",
            " 2   reviewTime      294240 non-null  object\n",
            " 3   reviewerID      294240 non-null  object\n",
            " 4   asin            294240 non-null  object\n",
            " 5   reviewText      294240 non-null  object\n",
            " 6   summary         294132 non-null  object\n",
            " 7   unixReviewTime  294240 non-null  int64 \n",
            "dtypes: bool(1), int64(2), object(5)\n",
            "memory usage: 16.0+ MB\n"
          ]
        }
      ],
      "source": [
        "df.info()"
      ]
    },
    {
      "cell_type": "markdown",
      "metadata": {
        "id": "9Q9jDE0ACvYB"
      },
      "source": [
        "# Big Question: Does the type of vectorization selected have a significant impact on the performance of the classification model?"
      ]
    },
    {
      "cell_type": "markdown",
      "metadata": {
        "id": "oak4LsyR6oC2"
      },
      "source": [
        "### Data Cleaning"
      ]
    },
    {
      "cell_type": "code",
      "execution_count": null,
      "metadata": {
        "colab": {
          "base_uri": "https://localhost:8080/"
        },
        "id": "rGWCKTk3HDD0",
        "outputId": "a1ad7bce-b756-4d1e-cb52-a89e8fe63c01"
      },
      "outputs": [
        {
          "output_type": "stream",
          "name": "stdout",
          "text": [
            "overall             0\n",
            "verified            0\n",
            "reviewTime          0\n",
            "reviewerID          0\n",
            "asin                0\n",
            "reviewText          0\n",
            "summary           108\n",
            "unixReviewTime      0\n",
            "dtype: int64\n"
          ]
        }
      ],
      "source": [
        "# Check for missing values\n",
        "print(df.isnull().sum())"
      ]
    },
    {
      "cell_type": "code",
      "execution_count": null,
      "metadata": {
        "id": "MHMwN-SAL8lc"
      },
      "outputs": [],
      "source": [
        "# Drop rows with missing values\n",
        "df = df.dropna()\n",
        "\n",
        "# Fill missing values with an empty string\n",
        "df['summary'] = df['summary'].fillna('')"
      ]
    },
    {
      "cell_type": "code",
      "execution_count": null,
      "metadata": {
        "colab": {
          "base_uri": "https://localhost:8080/"
        },
        "id": "_YUR61qEJeIc",
        "outputId": "07209fee-b817-4db8-b080-c0ca4c3cc713"
      },
      "outputs": [
        {
          "output_type": "execute_result",
          "data": {
            "text/plain": [
              "overall                4\n",
              "verified               2\n",
              "reviewTime          3071\n",
              "reviewerID        181296\n",
              "asin              126303\n",
              "reviewText        222666\n",
              "summary            84650\n",
              "unixReviewTime      3071\n",
              "dtype: int64"
            ]
          },
          "metadata": {},
          "execution_count": 64
        }
      ],
      "source": [
        "df.nunique()"
      ]
    },
    {
      "cell_type": "markdown",
      "metadata": {
        "id": "Jb3A5wAHKT16"
      },
      "source": [
        "The 'overall' column does not have a rating = 3"
      ]
    },
    {
      "cell_type": "code",
      "execution_count": null,
      "metadata": {
        "colab": {
          "base_uri": "https://localhost:8080/"
        },
        "id": "C79Nk19jJu_2",
        "outputId": "35486aa5-107a-49b9-915a-751c2f9c63e1"
      },
      "outputs": [
        {
          "output_type": "execute_result",
          "data": {
            "text/plain": [
              "5    127110\n",
              "1     84805\n",
              "2     59363\n",
              "4     22854\n",
              "Name: overall, dtype: int64"
            ]
          },
          "metadata": {},
          "execution_count": 65
        }
      ],
      "source": [
        "df['overall'].value_counts()"
      ]
    },
    {
      "cell_type": "code",
      "execution_count": null,
      "metadata": {
        "id": "y_-37fjEd5BL"
      },
      "outputs": [],
      "source": [
        "# Create a binary outcome column keeping 1 for positive reviews and 0 for negative reviews\n",
        "df[\"binary_output\"] = df[\"overall\"].apply(lambda x: 1 if x > 3 else 0)"
      ]
    },
    {
      "cell_type": "markdown",
      "metadata": {
        "id": "3fk_h5OysCZ2"
      },
      "source": [
        "The target class looks balanced"
      ]
    },
    {
      "cell_type": "code",
      "execution_count": null,
      "metadata": {
        "colab": {
          "base_uri": "https://localhost:8080/"
        },
        "id": "qLGjf7ZtrcIH",
        "outputId": "4af69496-07d6-4147-c674-68d8e77d10a4"
      },
      "outputs": [
        {
          "output_type": "execute_result",
          "data": {
            "text/plain": [
              "1    149964\n",
              "0    144168\n",
              "Name: binary_output, dtype: int64"
            ]
          },
          "metadata": {},
          "execution_count": 67
        }
      ],
      "source": [
        "df['binary_output'].value_counts(normalize=False)"
      ]
    },
    {
      "cell_type": "markdown",
      "metadata": {
        "id": "4G0iLahssEo7"
      },
      "source": [
        "### Text Pre-processing on reviewText column"
      ]
    },
    {
      "cell_type": "code",
      "execution_count": null,
      "metadata": {
        "id": "UfQvqAYbKdUb"
      },
      "outputs": [],
      "source": [
        "# Define a function for text cleaning and pre-processing\n",
        "def preprocess_text(text):\n",
        "    # Convert to lowercase\n",
        "    text = text.lower()\n",
        "    # Remove punctuations\n",
        "    text = re.sub(r'[^\\w\\s]', '', text)\n",
        "    # Tokenize the text\n",
        "    tokens = word_tokenize(text)\n",
        "    # Remove stop words\n",
        "    stop_words = set(stopwords.words('english'))\n",
        "    tokens = [word for word in tokens if word not in stop_words]\n",
        "    # Lemmatize the text\n",
        "    lemmatizer = WordNetLemmatizer()\n",
        "    tokens = [lemmatizer.lemmatize(word) for word in tokens]\n",
        "    # Join the tokens back into a string\n",
        "    text = ' '.join(tokens)\n",
        "    return text\n",
        "\n",
        "# Apply the preprocess_text function to the reviewText column\n",
        "df['reviewText'] = df['reviewText'].apply(preprocess_text)"
      ]
    },
    {
      "cell_type": "code",
      "execution_count": null,
      "metadata": {
        "colab": {
          "base_uri": "https://localhost:8080/",
          "height": 268
        },
        "id": "yGbI9jg3QgjJ",
        "outputId": "fdd3547d-a304-4f50-d1b8-dce59ae6cd44"
      },
      "outputs": [
        {
          "output_type": "execute_result",
          "data": {
            "text/plain": [
              "        overall  verified   reviewTime      reviewerID        asin  \\\n",
              "215877        4      True  01 25, 2017   A3VKYWA71F3LH  B00NCXYWLU   \n",
              "146664        5      True  06 17, 2016  A2E1P5FSF37JSR  B00JRFAMNO   \n",
              "260999        5      True  08 14, 2015  A291BFLK51WJ2C  B00SL1TI8K   \n",
              "106088        1      True  01 23, 2018   AOYT6CHI4Z6IF  B012S22SD4   \n",
              "56963         1      True  08 20, 2014  A2LJFS1M8Z3E9H  B00IT7I1MA   \n",
              "\n",
              "                                                                          reviewText  \\\n",
              "215877                                                                         great   \n",
              "146664                                                    wife loved simple assemble   \n",
              "260999                                                                   great truck   \n",
              "106088                                                                     made sick   \n",
              "56963   thick credit card compartment tight could get one card without getting stuck   \n",
              "\n",
              "                                                            summary  \\\n",
              "215877                                                   Four Stars   \n",
              "146664                                             Nice Planter Box   \n",
              "260999                                                   Five Stars   \n",
              "106088                                                     One Star   \n",
              "56963   Was very thick and the credit card compartment was very ...   \n",
              "\n",
              "        unixReviewTime  binary_output  \n",
              "215877      1485302400              1  \n",
              "146664      1466121600              1  \n",
              "260999      1439510400              1  \n",
              "106088      1516665600              0  \n",
              "56963       1408492800              0  "
            ],
            "text/html": [
              "\n",
              "  <div id=\"df-8c364f16-339f-4482-9767-4e94ceee280d\">\n",
              "    <div class=\"colab-df-container\">\n",
              "      <div>\n",
              "<style scoped>\n",
              "    .dataframe tbody tr th:only-of-type {\n",
              "        vertical-align: middle;\n",
              "    }\n",
              "\n",
              "    .dataframe tbody tr th {\n",
              "        vertical-align: top;\n",
              "    }\n",
              "\n",
              "    .dataframe thead th {\n",
              "        text-align: right;\n",
              "    }\n",
              "</style>\n",
              "<table border=\"1\" class=\"dataframe tex2jax_ignore\">\n",
              "  <thead>\n",
              "    <tr style=\"text-align: right;\">\n",
              "      <th></th>\n",
              "      <th>overall</th>\n",
              "      <th>verified</th>\n",
              "      <th>reviewTime</th>\n",
              "      <th>reviewerID</th>\n",
              "      <th>asin</th>\n",
              "      <th>reviewText</th>\n",
              "      <th>summary</th>\n",
              "      <th>unixReviewTime</th>\n",
              "      <th>binary_output</th>\n",
              "    </tr>\n",
              "  </thead>\n",
              "  <tbody>\n",
              "    <tr>\n",
              "      <th>215877</th>\n",
              "      <td>4</td>\n",
              "      <td>True</td>\n",
              "      <td>01 25, 2017</td>\n",
              "      <td>A3VKYWA71F3LH</td>\n",
              "      <td>B00NCXYWLU</td>\n",
              "      <td>great</td>\n",
              "      <td>Four Stars</td>\n",
              "      <td>1485302400</td>\n",
              "      <td>1</td>\n",
              "    </tr>\n",
              "    <tr>\n",
              "      <th>146664</th>\n",
              "      <td>5</td>\n",
              "      <td>True</td>\n",
              "      <td>06 17, 2016</td>\n",
              "      <td>A2E1P5FSF37JSR</td>\n",
              "      <td>B00JRFAMNO</td>\n",
              "      <td>wife loved simple assemble</td>\n",
              "      <td>Nice Planter Box</td>\n",
              "      <td>1466121600</td>\n",
              "      <td>1</td>\n",
              "    </tr>\n",
              "    <tr>\n",
              "      <th>260999</th>\n",
              "      <td>5</td>\n",
              "      <td>True</td>\n",
              "      <td>08 14, 2015</td>\n",
              "      <td>A291BFLK51WJ2C</td>\n",
              "      <td>B00SL1TI8K</td>\n",
              "      <td>great truck</td>\n",
              "      <td>Five Stars</td>\n",
              "      <td>1439510400</td>\n",
              "      <td>1</td>\n",
              "    </tr>\n",
              "    <tr>\n",
              "      <th>106088</th>\n",
              "      <td>1</td>\n",
              "      <td>True</td>\n",
              "      <td>01 23, 2018</td>\n",
              "      <td>AOYT6CHI4Z6IF</td>\n",
              "      <td>B012S22SD4</td>\n",
              "      <td>made sick</td>\n",
              "      <td>One Star</td>\n",
              "      <td>1516665600</td>\n",
              "      <td>0</td>\n",
              "    </tr>\n",
              "    <tr>\n",
              "      <th>56963</th>\n",
              "      <td>1</td>\n",
              "      <td>True</td>\n",
              "      <td>08 20, 2014</td>\n",
              "      <td>A2LJFS1M8Z3E9H</td>\n",
              "      <td>B00IT7I1MA</td>\n",
              "      <td>thick credit card compartment tight could get one card without getting stuck</td>\n",
              "      <td>Was very thick and the credit card compartment was very ...</td>\n",
              "      <td>1408492800</td>\n",
              "      <td>0</td>\n",
              "    </tr>\n",
              "  </tbody>\n",
              "</table>\n",
              "</div>\n",
              "      <button class=\"colab-df-convert\" onclick=\"convertToInteractive('df-8c364f16-339f-4482-9767-4e94ceee280d')\"\n",
              "              title=\"Convert this dataframe to an interactive table.\"\n",
              "              style=\"display:none;\">\n",
              "        \n",
              "  <svg xmlns=\"http://www.w3.org/2000/svg\" height=\"24px\"viewBox=\"0 0 24 24\"\n",
              "       width=\"24px\">\n",
              "    <path d=\"M0 0h24v24H0V0z\" fill=\"none\"/>\n",
              "    <path d=\"M18.56 5.44l.94 2.06.94-2.06 2.06-.94-2.06-.94-.94-2.06-.94 2.06-2.06.94zm-11 1L8.5 8.5l.94-2.06 2.06-.94-2.06-.94L8.5 2.5l-.94 2.06-2.06.94zm10 10l.94 2.06.94-2.06 2.06-.94-2.06-.94-.94-2.06-.94 2.06-2.06.94z\"/><path d=\"M17.41 7.96l-1.37-1.37c-.4-.4-.92-.59-1.43-.59-.52 0-1.04.2-1.43.59L10.3 9.45l-7.72 7.72c-.78.78-.78 2.05 0 2.83L4 21.41c.39.39.9.59 1.41.59.51 0 1.02-.2 1.41-.59l7.78-7.78 2.81-2.81c.8-.78.8-2.07 0-2.86zM5.41 20L4 18.59l7.72-7.72 1.47 1.35L5.41 20z\"/>\n",
              "  </svg>\n",
              "      </button>\n",
              "      \n",
              "  <style>\n",
              "    .colab-df-container {\n",
              "      display:flex;\n",
              "      flex-wrap:wrap;\n",
              "      gap: 12px;\n",
              "    }\n",
              "\n",
              "    .colab-df-convert {\n",
              "      background-color: #E8F0FE;\n",
              "      border: none;\n",
              "      border-radius: 50%;\n",
              "      cursor: pointer;\n",
              "      display: none;\n",
              "      fill: #1967D2;\n",
              "      height: 32px;\n",
              "      padding: 0 0 0 0;\n",
              "      width: 32px;\n",
              "    }\n",
              "\n",
              "    .colab-df-convert:hover {\n",
              "      background-color: #E2EBFA;\n",
              "      box-shadow: 0px 1px 2px rgba(60, 64, 67, 0.3), 0px 1px 3px 1px rgba(60, 64, 67, 0.15);\n",
              "      fill: #174EA6;\n",
              "    }\n",
              "\n",
              "    [theme=dark] .colab-df-convert {\n",
              "      background-color: #3B4455;\n",
              "      fill: #D2E3FC;\n",
              "    }\n",
              "\n",
              "    [theme=dark] .colab-df-convert:hover {\n",
              "      background-color: #434B5C;\n",
              "      box-shadow: 0px 1px 3px 1px rgba(0, 0, 0, 0.15);\n",
              "      filter: drop-shadow(0px 1px 2px rgba(0, 0, 0, 0.3));\n",
              "      fill: #FFFFFF;\n",
              "    }\n",
              "  </style>\n",
              "\n",
              "      <script>\n",
              "        const buttonEl =\n",
              "          document.querySelector('#df-8c364f16-339f-4482-9767-4e94ceee280d button.colab-df-convert');\n",
              "        buttonEl.style.display =\n",
              "          google.colab.kernel.accessAllowed ? 'block' : 'none';\n",
              "\n",
              "        async function convertToInteractive(key) {\n",
              "          const element = document.querySelector('#df-8c364f16-339f-4482-9767-4e94ceee280d');\n",
              "          const dataTable =\n",
              "            await google.colab.kernel.invokeFunction('convertToInteractive',\n",
              "                                                     [key], {});\n",
              "          if (!dataTable) return;\n",
              "\n",
              "          const docLinkHtml = 'Like what you see? Visit the ' +\n",
              "            '<a target=\"_blank\" href=https://colab.research.google.com/notebooks/data_table.ipynb>data table notebook</a>'\n",
              "            + ' to learn more about interactive tables.';\n",
              "          element.innerHTML = '';\n",
              "          dataTable['output_type'] = 'display_data';\n",
              "          await google.colab.output.renderOutput(dataTable, element);\n",
              "          const docLink = document.createElement('div');\n",
              "          docLink.innerHTML = docLinkHtml;\n",
              "          element.appendChild(docLink);\n",
              "        }\n",
              "      </script>\n",
              "    </div>\n",
              "  </div>\n",
              "  "
            ]
          },
          "metadata": {},
          "execution_count": 69
        }
      ],
      "source": [
        "df.sample(5)"
      ]
    },
    {
      "cell_type": "markdown",
      "source": [
        "### Split data into training and test sets"
      ],
      "metadata": {
        "id": "xevfuL8jyj0f"
      }
    },
    {
      "cell_type": "code",
      "source": [
        "X_train, X_test, y_train, y_test = train_test_split(df['reviewText'], df['binary_output'], test_size=0.2, random_state=42)"
      ],
      "metadata": {
        "id": "ZjkVTQkayiCu"
      },
      "execution_count": null,
      "outputs": []
    },
    {
      "cell_type": "markdown",
      "source": [
        "### Define various text vectorization techniques\n",
        "\n",
        "\n",
        "*   TF-IDF Vectorizer\n",
        "*   Bag of Vectorization with binary weights\n",
        "*   Topic Modelling with Non-negative matrix factorization\n",
        "*   Topic Modelling with Latent Semantic Analysis (LSA)\n",
        "*   Topic Modelling with Latent Dirichlet Allocation (LDA)\n",
        "\n"
      ],
      "metadata": {
        "id": "MQo4Pr06y0kn"
      }
    },
    {
      "cell_type": "code",
      "source": [
        "# 1. Using TF-IDF Vectorizer by defining max document frequency and min document frequency\n",
        "tfidf_vec = TfidfVectorizer(stop_words='english', max_df=0.8, min_df=10)\n",
        "\n",
        "# 2. Using Bag of Words Vectorization technique with binary weights\n",
        "count_vec = CountVectorizer(binary=True)\n",
        "\n",
        "# 3. Vectorization using Topic Modeling with Non-Negative Matrix Factorization \n",
        "nmf_vec = NMF(n_components=10, random_state=42)\n",
        "\n",
        "# 4. Vectorization using Topic Modeling with Latent Semantic Analysis (LSA)\n",
        "lsa_vec = TruncatedSVD(n_components=10, algorithm='randomized', random_state=42)\n",
        "\n",
        "# 5. Vectorization using Topic Modeling with Latent Dirichlet Allocation (LDA)\n",
        "lda_vec = LatentDirichletAllocation(n_components=10, random_state=42)\n"
      ],
      "metadata": {
        "id": "PSrLBtpwzHIe"
      },
      "execution_count": null,
      "outputs": []
    },
    {
      "cell_type": "markdown",
      "source": [
        "### Fit the vectors on train and test sets"
      ],
      "metadata": {
        "id": "U7y9C3bc374d"
      }
    },
    {
      "cell_type": "code",
      "source": [
        "# Apply the vectorizers on the train data\n",
        "tfidf_train = tfidf_vec.fit_transform(X_train)\n",
        "count_train = count_vec.fit_transform(X_train)\n",
        "nmf_train = nmf_vec.fit_transform(tfidf_train)\n",
        "lsa_train = lsa_vec.fit_transform(tfidf_train)\n",
        "lda_train = lda_vec.fit_transform(tfidf_train)\n",
        "\n",
        "# Apply the vectorizers on the test data\n",
        "tfidf_test = tfidf_vec.transform(X_test)\n",
        "count_test = count_vec.transform(X_test)\n",
        "nmf_test = nmf_vec.transform(tfidf_test)\n",
        "lsa_test = lsa_vec.transform(tfidf_test)\n",
        "lda_test = lda_vec.transform(tfidf_test)"
      ],
      "metadata": {
        "id": "8a7lhoqv3484"
      },
      "execution_count": null,
      "outputs": []
    },
    {
      "cell_type": "markdown",
      "source": [
        "### Define classification models:\n",
        "1. Random Forest\n",
        "2. Logistic Regression\n",
        "3. XGBoost"
      ],
      "metadata": {
        "id": "ECmgg9nJ6-rJ"
      }
    },
    {
      "cell_type": "code",
      "source": [
        "# Import necessary libraries\n",
        "from sklearn.ensemble import RandomForestClassifier\n",
        "from sklearn.linear_model import LogisticRegression\n",
        "from lightgbm import LGBMClassifier\n",
        "from sklearn.metrics import accuracy_score\n",
        "from xgboost import XGBClassifier\n",
        "\n",
        "# Set up models to loop through\n",
        "models = [(RandomForestClassifier(n_jobs=-1, random_state=42), 'Random Forest Classifier'), \n",
        "          (LogisticRegression(random_state=42), 'Logistic Regression'), \n",
        "          (XGBClassifier(), 'XGB Classifier')]\n",
        "\n",
        "# models = [(XGBClassifier(), 'XGB Classifier')]\n",
        "\n",
        "# Set up vectorizers to loop through\n",
        "vectorizers = [(tfidf_train, tfidf_test, 'TF-IDF'), \n",
        "               (count_train, count_test, 'Count'), \n",
        "               (nmf_train, nmf_test, 'NMF'), \n",
        "               (lsa_train, lsa_test, 'LSA'), \n",
        "               (lda_train, lda_test, 'LDA')]\n",
        "\n",
        "# Loop through models and vectorizers\n",
        "for model in models:\n",
        "    for vectorizer in vectorizers:\n",
        "        print(f'\\n Training {model[1]} on {vectorizer[2]} vectorized data')\n",
        "        # Train model on vectorized data\n",
        "        model[0].fit(vectorizer[0], y_train)\n",
        "        # Make predictions and calculate accuracy\n",
        "        pred = model[0].predict(vectorizer[1])\n",
        "        acc = accuracy_score(y_test, pred)\n",
        "        print(pd.crosstab(y_test, pred, rownames=['True'], colnames=['Predicted'], margins=True))\n",
        "        print(classification_report(y_test, pred))\n",
        "        print(f\"{model[1]} trained on {vectorizer[2]} vectorized data has an accuracy of {acc} \\n\\n\")\n",
        "        "
      ],
      "metadata": {
        "colab": {
          "base_uri": "https://localhost:8080/"
        },
        "id": "L-1sAxXm6-3H",
        "outputId": "c023e983-9eff-4d06-a638-d47b04376684"
      },
      "execution_count": null,
      "outputs": [
        {
          "output_type": "stream",
          "name": "stdout",
          "text": [
            "\n",
            " Training Random Forest Classifier on TF-IDF vectorized data\n",
            "Predicted      0      1    All\n",
            "True                          \n",
            "0          24950   3970  28920\n",
            "1           3825  26082  29907\n",
            "All        28775  30052  58827\n",
            "              precision    recall  f1-score   support\n",
            "\n",
            "           0       0.87      0.86      0.86     28920\n",
            "           1       0.87      0.87      0.87     29907\n",
            "\n",
            "    accuracy                           0.87     58827\n",
            "   macro avg       0.87      0.87      0.87     58827\n",
            "weighted avg       0.87      0.87      0.87     58827\n",
            "\n",
            "Random Forest Classifier trained on TF-IDF vectorized data has an accuracy of 0.8674928179237426 \n",
            "\n",
            "\n",
            "\n",
            " Training Random Forest Classifier on Count vectorized data\n",
            "Predicted      0      1    All\n",
            "True                          \n",
            "0          25489   3431  28920\n",
            "1           3746  26161  29907\n",
            "All        29235  29592  58827\n",
            "              precision    recall  f1-score   support\n",
            "\n",
            "           0       0.87      0.88      0.88     28920\n",
            "           1       0.88      0.87      0.88     29907\n",
            "\n",
            "    accuracy                           0.88     58827\n",
            "   macro avg       0.88      0.88      0.88     58827\n",
            "weighted avg       0.88      0.88      0.88     58827\n",
            "\n",
            "Random Forest Classifier trained on Count vectorized data has an accuracy of 0.8779981981063117 \n",
            "\n",
            "\n",
            "\n",
            " Training Random Forest Classifier on NMF vectorized data\n",
            "Predicted      0      1    All\n",
            "True                          \n",
            "0          24156   4764  28920\n",
            "1           5279  24628  29907\n",
            "All        29435  29392  58827\n",
            "              precision    recall  f1-score   support\n",
            "\n",
            "           0       0.82      0.84      0.83     28920\n",
            "           1       0.84      0.82      0.83     29907\n",
            "\n",
            "    accuracy                           0.83     58827\n",
            "   macro avg       0.83      0.83      0.83     58827\n",
            "weighted avg       0.83      0.83      0.83     58827\n",
            "\n",
            "Random Forest Classifier trained on NMF vectorized data has an accuracy of 0.8292790725347204 \n",
            "\n",
            "\n",
            "\n",
            " Training Random Forest Classifier on LSA vectorized data\n",
            "Predicted      0      1    All\n",
            "True                          \n",
            "0          24466   4454  28920\n",
            "1           5234  24673  29907\n",
            "All        29700  29127  58827\n",
            "              precision    recall  f1-score   support\n",
            "\n",
            "           0       0.82      0.85      0.83     28920\n",
            "           1       0.85      0.82      0.84     29907\n",
            "\n",
            "    accuracy                           0.84     58827\n",
            "   macro avg       0.84      0.84      0.84     58827\n",
            "weighted avg       0.84      0.84      0.84     58827\n",
            "\n",
            "Random Forest Classifier trained on LSA vectorized data has an accuracy of 0.835313716490727 \n",
            "\n",
            "\n",
            "\n",
            " Training Random Forest Classifier on LDA vectorized data\n",
            "Predicted      0      1    All\n",
            "True                          \n",
            "0          21859   7061  28920\n",
            "1           7015  22892  29907\n",
            "All        28874  29953  58827\n",
            "              precision    recall  f1-score   support\n",
            "\n",
            "           0       0.76      0.76      0.76     28920\n",
            "           1       0.76      0.77      0.76     29907\n",
            "\n",
            "    accuracy                           0.76     58827\n",
            "   macro avg       0.76      0.76      0.76     58827\n",
            "weighted avg       0.76      0.76      0.76     58827\n",
            "\n",
            "Random Forest Classifier trained on LDA vectorized data has an accuracy of 0.7607221173950737 \n",
            "\n",
            "\n",
            "\n",
            " Training Logistic Regression on TF-IDF vectorized data\n",
            "Predicted      0      1    All\n",
            "True                          \n",
            "0          25274   3646  28920\n",
            "1           4067  25840  29907\n",
            "All        29341  29486  58827\n",
            "              precision    recall  f1-score   support\n",
            "\n",
            "           0       0.86      0.87      0.87     28920\n",
            "           1       0.88      0.86      0.87     29907\n",
            "\n",
            "    accuracy                           0.87     58827\n",
            "   macro avg       0.87      0.87      0.87     58827\n",
            "weighted avg       0.87      0.87      0.87     58827\n",
            "\n",
            "Logistic Regression trained on TF-IDF vectorized data has an accuracy of 0.8688867356825948 \n",
            "\n",
            "\n",
            "\n",
            " Training Logistic Regression on Count vectorized data\n",
            "Predicted      0      1    All\n",
            "True                          \n",
            "0          25171   3749  28920\n",
            "1           3454  26453  29907\n",
            "All        28625  30202  58827\n",
            "              precision    recall  f1-score   support\n",
            "\n",
            "           0       0.88      0.87      0.87     28920\n",
            "           1       0.88      0.88      0.88     29907\n",
            "\n",
            "    accuracy                           0.88     58827\n",
            "   macro avg       0.88      0.88      0.88     58827\n",
            "weighted avg       0.88      0.88      0.88     58827\n",
            "\n",
            "Logistic Regression trained on Count vectorized data has an accuracy of 0.8775562241827732 \n",
            "\n",
            "\n",
            "\n",
            " Training Logistic Regression on NMF vectorized data\n",
            "Predicted      0      1    All\n",
            "True                          \n",
            "0          25533   3387  28920\n",
            "1          13179  16728  29907\n",
            "All        38712  20115  58827\n",
            "              precision    recall  f1-score   support\n",
            "\n",
            "           0       0.66      0.88      0.76     28920\n",
            "           1       0.83      0.56      0.67     29907\n",
            "\n",
            "    accuracy                           0.72     58827\n",
            "   macro avg       0.75      0.72      0.71     58827\n",
            "weighted avg       0.75      0.72      0.71     58827\n",
            "\n",
            "Logistic Regression trained on NMF vectorized data has an accuracy of 0.7183946147177317 \n",
            "\n",
            "\n",
            "\n",
            " Training Logistic Regression on LSA vectorized data\n",
            "Predicted      0      1    All\n",
            "True                          \n",
            "0          25894   3026  28920\n",
            "1          12725  17182  29907\n",
            "All        38619  20208  58827\n",
            "              precision    recall  f1-score   support\n",
            "\n",
            "           0       0.67      0.90      0.77     28920\n",
            "           1       0.85      0.57      0.69     29907\n",
            "\n",
            "    accuracy                           0.73     58827\n",
            "   macro avg       0.76      0.73      0.73     58827\n",
            "weighted avg       0.76      0.73      0.73     58827\n",
            "\n",
            "Logistic Regression trained on LSA vectorized data has an accuracy of 0.732248797320958 \n",
            "\n",
            "\n",
            "\n",
            " Training Logistic Regression on LDA vectorized data\n",
            "Predicted      0      1    All\n",
            "True                          \n",
            "0          21124   7796  28920\n",
            "1          10010  19897  29907\n",
            "All        31134  27693  58827\n",
            "              precision    recall  f1-score   support\n",
            "\n",
            "           0       0.68      0.73      0.70     28920\n",
            "           1       0.72      0.67      0.69     29907\n",
            "\n",
            "    accuracy                           0.70     58827\n",
            "   macro avg       0.70      0.70      0.70     58827\n",
            "weighted avg       0.70      0.70      0.70     58827\n",
            "\n",
            "Logistic Regression trained on LDA vectorized data has an accuracy of 0.6973158583643565 \n",
            "\n",
            "\n",
            "\n",
            " Training XGB Classifier on TF-IDF vectorized data\n",
            "Predicted      0      1    All\n",
            "True                          \n",
            "0          25789   3131  28920\n",
            "1           6220  23687  29907\n",
            "All        32009  26818  58827\n",
            "              precision    recall  f1-score   support\n",
            "\n",
            "           0       0.81      0.89      0.85     28920\n",
            "           1       0.88      0.79      0.84     29907\n",
            "\n",
            "    accuracy                           0.84     58827\n",
            "   macro avg       0.84      0.84      0.84     58827\n",
            "weighted avg       0.85      0.84      0.84     58827\n",
            "\n",
            "XGB Classifier trained on TF-IDF vectorized data has an accuracy of 0.8410423784996686 \n",
            "\n",
            "\n",
            "\n",
            " Training XGB Classifier on Count vectorized data\n",
            "Predicted      0      1    All\n",
            "True                          \n",
            "0          25854   3066  28920\n",
            "1           6229  23678  29907\n",
            "All        32083  26744  58827\n",
            "              precision    recall  f1-score   support\n",
            "\n",
            "           0       0.81      0.89      0.85     28920\n",
            "           1       0.89      0.79      0.84     29907\n",
            "\n",
            "    accuracy                           0.84     58827\n",
            "   macro avg       0.85      0.84      0.84     58827\n",
            "weighted avg       0.85      0.84      0.84     58827\n",
            "\n",
            "XGB Classifier trained on Count vectorized data has an accuracy of 0.8419943223349823 \n",
            "\n",
            "\n",
            "\n",
            " Training XGB Classifier on NMF vectorized data\n",
            "Predicted      0      1    All\n",
            "True                          \n",
            "0          24102   4818  28920\n",
            "1           5958  23949  29907\n",
            "All        30060  28767  58827\n",
            "              precision    recall  f1-score   support\n",
            "\n",
            "           0       0.80      0.83      0.82     28920\n",
            "           1       0.83      0.80      0.82     29907\n",
            "\n",
            "    accuracy                           0.82     58827\n",
            "   macro avg       0.82      0.82      0.82     58827\n",
            "weighted avg       0.82      0.82      0.82     58827\n",
            "\n",
            "XGB Classifier trained on NMF vectorized data has an accuracy of 0.8168188076903463 \n",
            "\n",
            "\n",
            "\n",
            " Training XGB Classifier on LSA vectorized data\n",
            "Predicted      0      1    All\n",
            "True                          \n",
            "0          24240   4680  28920\n",
            "1           5867  24040  29907\n",
            "All        30107  28720  58827\n",
            "              precision    recall  f1-score   support\n",
            "\n",
            "           0       0.81      0.84      0.82     28920\n",
            "           1       0.84      0.80      0.82     29907\n",
            "\n",
            "    accuracy                           0.82     58827\n",
            "   macro avg       0.82      0.82      0.82     58827\n",
            "weighted avg       0.82      0.82      0.82     58827\n",
            "\n",
            "XGB Classifier trained on LSA vectorized data has an accuracy of 0.820711578016897 \n",
            "\n",
            "\n",
            "\n",
            " Training XGB Classifier on LDA vectorized data\n",
            "Predicted      0      1    All\n",
            "True                          \n",
            "0          21797   7123  28920\n",
            "1           7594  22313  29907\n",
            "All        29391  29436  58827\n",
            "              precision    recall  f1-score   support\n",
            "\n",
            "           0       0.74      0.75      0.75     28920\n",
            "           1       0.76      0.75      0.75     29907\n",
            "\n",
            "    accuracy                           0.75     58827\n",
            "   macro avg       0.75      0.75      0.75     58827\n",
            "weighted avg       0.75      0.75      0.75     58827\n",
            "\n",
            "XGB Classifier trained on LDA vectorized data has an accuracy of 0.7498257602801435 \n",
            "\n",
            "\n"
          ]
        }
      ]
    },
    {
      "cell_type": "markdown",
      "source": [
        "### From the above results, the Random Forest Classifier trained on Count vectorized data (i.e, Bag of Words Vectorization technique with binary weights) achieved the highest accuracy of 0.8779\n"
      ],
      "metadata": {
        "id": "adL6Ynrwr5kb"
      }
    },
    {
      "cell_type": "markdown",
      "metadata": {
        "id": "jYTrdoea5paM"
      },
      "source": [
        "### Thus, the type of vectorization selected has a significant impact on the performance of the classification model"
      ]
    }
  ],
  "metadata": {
    "colab": {
      "provenance": []
    },
    "kernelspec": {
      "display_name": "Python 3",
      "name": "python3"
    },
    "language_info": {
      "name": "python"
    }
  },
  "nbformat": 4,
  "nbformat_minor": 0
}